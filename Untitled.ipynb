{
 "cells": [
  {
   "cell_type": "code",
   "execution_count": null,
   "metadata": {},
   "outputs": [],
   "source": [
    "import matplotlib as mpl\n",
    "mpl.font_manager._rebuild()\n",
    "\n",
    "# Use the newly integrated Roboto font family for all text.\n",
    "plt.rc('font', family='Open Sans')\n",
    "\n",
    "fig, ax = plt.subplots()\n",
    "\n",
    "# Save the chart so we can loop through the bars below.\n",
    "bars = ax.bar(\n",
    "    x=np.arange(mpg.size),\n",
    "    height=mpg['Miles_per_Gallon'],\n",
    "    tick_label=mpg.index.strftime('%Y')\n",
    ")\n",
    "\n",
    "# Axis formatting.\n",
    "ax.spines['top'].set_visible(False)\n",
    "ax.spines['right'].set_visible(False)\n",
    "ax.spines['left'].set_visible(False)\n",
    "ax.spines['bottom'].set_color('#DDDDDD')\n",
    "ax.tick_params(bottom=False, left=False)\n",
    "ax.set_axisbelow(True)\n",
    "ax.yaxis.grid(True, color='#EEEEEE')\n",
    "ax.xaxis.grid(False)\n",
    "\n",
    "# Add text annotations to the top of the bars.\n",
    "bar_color = bars[0].get_facecolor()\n",
    "for bar in bars:\n",
    "  ax.text(\n",
    "      bar.get_x() + bar.get_width() / 2,\n",
    "      bar.get_height() + 0.3,\n",
    "      round(bar.get_height(), 1),\n",
    "      horizontalalignment='center',\n",
    "      color=bar_color,\n",
    "      weight='bold'\n",
    "  )\n",
    "\n",
    "# Add labels and a title.\n",
    "ax.set_xlabel('Year of Car Release', labelpad=15, color='#333333')\n",
    "ax.set_ylabel('Average Miles per Gallon (mpg)', labelpad=15, color='#333333')\n",
    "ax.set_title('Average MPG in Cars [1970-1982]', pad=15, color='#333333',\n",
    "             weight='bold')\n",
    "\n",
    "fig.tight_layout()"
   ]
  },
  {
   "cell_type": "code",
   "execution_count": 1,
   "metadata": {},
   "outputs": [],
   "source": [
    "dates=[\"12-01-2020\",\"13-01-2020\",\"17-03-2020\",\"22-04-2020\",\"04-09-2020\",\n",
    "      \"18-04-2021\",\"22-05-2021\",\"07-06-2021\",\"11-07-2021\"]"
   ]
  },
  {
   "cell_type": "code",
   "execution_count": 5,
   "metadata": {},
   "outputs": [],
   "source": [
    "import numpy as np\n",
    "samples=[80, 100, 100, 150, 160, 180, 200, 130,200]\n",
    "samples_cumsum=np.cumsum(samples,dtype=float)"
   ]
  },
  {
   "cell_type": "code",
   "execution_count": 2,
   "metadata": {},
   "outputs": [],
   "source": [
    "from datetime import datetime\n",
    "Date_List = [datetime.strptime(i, \"%d-%m-%Y\") for i in dates]"
   ]
  },
  {
   "cell_type": "code",
   "execution_count": 6,
   "metadata": {},
   "outputs": [
    {
     "name": "stderr",
     "output_type": "stream",
     "text": [
      "findfont: Font family ['Open Sans'] not found. Falling back to DejaVu Sans.\n"
     ]
    },
    {
     "data": {
      "image/png": "[encoded data removed]",
      "text/plain": [
       "<Figure size 432x288 with 1 Axes>"
      ]
     },
     "metadata": {
      "needs_background": "light"
     },
     "output_type": "display_data"
    }
   ],
   "source": [
    "import matplotlib.pyplot as plt\n",
    "import matplotlib.font_manager\n",
    "# Use the newly integrated Roboto font family for all text.\n",
    "plt.rc('font', family='Open Sans')\n",
    "\n",
    "fig, ax = plt.subplots()\n",
    "\n",
    "# Save the chart so we can loop through the bars below.\n",
    "ax.plot(Date_List,samples_cumsum)\n",
    "\n",
    "# Axis formatting.\n",
    "ax.spines['top'].set_visible(False)\n",
    "ax.spines['right'].set_visible(False)\n",
    "ax.spines['left'].set_visible(False)\n",
    "ax.spines['bottom'].set_color('#DDDDDD')\n",
    "ax.tick_params(bottom=False, left=False)\n",
    "ax.set_axisbelow(True)\n",
    "ax.yaxis.grid(True, color='#EEEEEE')\n",
    "ax.xaxis.grid(False)\n",
    "\n",
    "\n",
    "# Add labels and a title.\n",
    "ax.set_xlabel('Date', labelpad=15, color='#333333')\n",
    "ax.set_ylabel('Number of samples', labelpad=15, color='#333333')\n",
    "\n",
    "ax.set_title('Number of samples over time', pad=15, color='#333333',\n",
    "             weight='bold')\n",
    "plt.xticks(rotation=60)\n",
    "fig.tight_layout()\n",
    "plt.savefig(\"line.png\")"
   ]
  },
  {
   "cell_type": "code",
   "execution_count": 28,
   "metadata": {},
   "outputs": [],
   "source": [
    "table=np.vstack((dates,samples_cumsum))\n"
   ]
  },
  {
   "cell_type": "code",
   "execution_count": 29,
   "metadata": {},
   "outputs": [],
   "source": [
    "table=np.transpose(table)"
   ]
  },
  {
   "cell_type": "code",
   "execution_count": 33,
   "metadata": {},
   "outputs": [],
   "source": [
    "import pandas as pd\n",
    "df=pd.DataFrame(table,columns=[\"dates\",\"slides\"])"
   ]
  },
  {
   "cell_type": "code",
   "execution_count": 34,
   "metadata": {},
   "outputs": [],
   "source": [
    "df.to_csv(\"out.csv\",index=False)"
   ]
  },
  {
   "cell_type": "code",
   "execution_count": 30,
   "metadata": {},
   "outputs": [
    {
     "data": {
      "text/plain": [
       "array([['12-01-2020', '80.0'],\n",
       "       ['13-01-2020', '180.0'],\n",
       "       ['17-03-2020', '280.0'],\n",
       "       ['22-04-2020', '430.0'],\n",
       "       ['04-09-2020', '590.0'],\n",
       "       ['18-04-2021', '770.0'],\n",
       "       ['22-05-2021', '970.0'],\n",
       "       ['07-06-2021', '1100.0'],\n",
       "       ['11-07-2021', '1300.0']], dtype='<U32')"
      ]
     },
     "execution_count": 30,
     "metadata": {},
     "output_type": "execute_result"
    }
   ],
   "source": []
  },
  {
   "cell_type": "code",
   "execution_count": null,
   "metadata": {},
   "outputs": [],
   "source": []
  }
 ],
 "metadata": {
  "kernelspec": {
   "display_name": "olga",
   "language": "python",
   "name": "olga"
  },
  "language_info": {
   "codemirror_mode": {
    "name": "ipython",
    "version": 3
   },
   "file_extension": ".py",
   "mimetype": "text/x-python",
   "name": "python",
   "nbconvert_exporter": "python",
   "pygments_lexer": "ipython3",
   "version": "3.6.10"
  }
 },
 "nbformat": 4,
 "nbformat_minor": 2
}
